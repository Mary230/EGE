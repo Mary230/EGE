{
  "nbformat": 4,
  "nbformat_minor": 0,
  "metadata": {
    "colab": {
      "provenance": [],
      "authorship_tag": "ABX9TyOthIREIsoYwgQzKV8gOqzG",
      "include_colab_link": true
    },
    "kernelspec": {
      "name": "python3",
      "display_name": "Python 3"
    },
    "language_info": {
      "name": "python"
    }
  },
  "cells": [
    {
      "cell_type": "markdown",
      "metadata": {
        "id": "view-in-github",
        "colab_type": "text"
      },
      "source": [
        "<a href=\"https://colab.research.google.com/github/Mary230/EGE/blob/main/%D0%95%D0%93%D0%AD.ipynb\" target=\"_parent\"><img src=\"https://colab.research.google.com/assets/colab-badge.svg\" alt=\"Open In Colab\"/></a>"
      ]
    },
    {
      "cell_type": "markdown",
      "source": [
        "# **Задание 8**"
      ],
      "metadata": {
        "id": "rd65EMNV-scg"
      }
    },
    {
      "cell_type": "markdown",
      "source": [
        "2701"
      ],
      "metadata": {
        "id": "YMCuzfB39-Oa"
      }
    },
    {
      "cell_type": "code",
      "execution_count": null,
      "metadata": {
        "colab": {
          "base_uri": "https://localhost:8080/"
        },
        "id": "3zOGN4vP90-t",
        "outputId": "d6b8fcd8-ae21-4c80-a183-e8734509ce39"
      },
      "outputs": [
        {
          "output_type": "stream",
          "name": "stdout",
          "text": [
            "19609\n"
          ]
        }
      ],
      "source": [
        "from itertools import product, permutations\n",
        "words = product('АВЕЛРФЬ', repeat=6 )\n",
        "n = 1\n",
        "for w in words:\n",
        "    s = ''.join(w)\n",
        "    if s.count('А') == 0 and s.count('Е') == 0:\n",
        "        print(n)\n",
        "        break\n",
        "    n+=1"
      ]
    },
    {
      "cell_type": "markdown",
      "source": [
        "191"
      ],
      "metadata": {
        "id": "JT21th_a97X4"
      }
    },
    {
      "cell_type": "code",
      "source": [
        "from itertools import product, permutations\n",
        "words = product('КАНТ', repeat=6 )\n",
        "s_set = set()\n",
        "for w in words:\n",
        "    s = ''.join(w)\n",
        "    if s.count('К') == 2:\n",
        "        s_set.add(s)\n",
        "print(len(s_set))\n"
      ],
      "metadata": {
        "colab": {
          "base_uri": "https://localhost:8080/"
        },
        "id": "RiWjVSKs-EZv",
        "outputId": "9a27d857-b6ca-4351-99c3-77bd11c1fd83"
      },
      "execution_count": null,
      "outputs": [
        {
          "output_type": "stream",
          "name": "stdout",
          "text": [
            "1215\n"
          ]
        }
      ]
    },
    {
      "cell_type": "markdown",
      "source": [
        "11300"
      ],
      "metadata": {
        "id": "gI817Hkt91iK"
      }
    },
    {
      "cell_type": "code",
      "source": [
        "from itertools import product, permutations\n",
        "words = product('БГДНОУШ', repeat=6)\n",
        "ans = -1\n",
        "n = 1\n",
        "for w in words:\n",
        "    s = ''.join(w)\n",
        "    if s[0]!='Б' and n%2 == 1 and s.count('Н')>=2 and s.count('У')==0:\n",
        "        ans = n\n",
        "    n+=1\n",
        "print(ans)\n"
      ],
      "metadata": {
        "colab": {
          "base_uri": "https://localhost:8080/"
        },
        "id": "wMVToH_e-IfL",
        "outputId": "1ce2b03a-02ba-4439-ba00-9d4369b1a52a"
      },
      "execution_count": null,
      "outputs": [
        {
          "output_type": "stream",
          "name": "stdout",
          "text": [
            "117625\n"
          ]
        }
      ]
    },
    {
      "cell_type": "markdown",
      "source": [
        "11296"
      ],
      "metadata": {
        "id": "NSRNm-jc-Jec"
      }
    },
    {
      "cell_type": "code",
      "source": [
        "from itertools import product, permutations\n",
        "words = product('ДЖОС', repeat=6)\n",
        "ans = 0\n",
        "n = 1\n",
        "for w in words:\n",
        "    s = ''.join(w)\n",
        "    if s[:2]=='ЖС':\n",
        "        print(n)\n",
        "        break\n",
        "    n+=1"
      ],
      "metadata": {
        "colab": {
          "base_uri": "https://localhost:8080/"
        },
        "id": "gkAR1yFg-MBh",
        "outputId": "a1412500-eed7-43f3-a237-4f6b8d19f7c5"
      },
      "execution_count": null,
      "outputs": [
        {
          "output_type": "stream",
          "name": "stdout",
          "text": [
            "1793\n"
          ]
        }
      ]
    },
    {
      "cell_type": "markdown",
      "source": [
        "# **Задание 12**\n"
      ],
      "metadata": {
        "id": "8Ny-ayQm-5kF"
      }
    },
    {
      "cell_type": "markdown",
      "source": [
        "3733"
      ],
      "metadata": {
        "id": "rfUbi_cR_CK2"
      }
    },
    {
      "cell_type": "code",
      "source": [
        "_set = set()\n",
        "for n in range(1,1000):\n",
        "    s = '1'*n\n",
        "    while '1111' in s or '222' in s or '33' in s:\n",
        "        if '1111' in s: s = s.replace('1111', '333', 1)\n",
        "        elif '222' in s: s = s.replace('222', '11', 1)\n",
        "        elif '33' in s: s = s.replace('33', '2', 1)\n",
        "    s_set.add(s)\n",
        "print(len(s_set))"
      ],
      "metadata": {
        "colab": {
          "base_uri": "https://localhost:8080/"
        },
        "id": "22UiBXrd_Eho",
        "outputId": "c1ba2b1d-659b-43f0-a306-e420be1a2ec9"
      },
      "execution_count": null,
      "outputs": [
        {
          "output_type": "stream",
          "name": "stdout",
          "text": [
            "1226\n"
          ]
        }
      ]
    },
    {
      "cell_type": "markdown",
      "source": [
        "9159"
      ],
      "metadata": {
        "id": "lpLYKP3-_G23"
      }
    },
    {
      "cell_type": "code",
      "source": [
        "max_len = -1\n",
        "min_ind = -1\n",
        "for n in range(108,1000,9):\n",
        "    s = '5'*n\n",
        "    while '555' in s or '11' in s or '2' in s:\n",
        "        if '555' in s: s = s.replace('555', '1', 1)\n",
        "        if '11' in s: s = s.replace('11', '25', 1)\n",
        "        if '2' in s: s = s.replace('2', '5', 1)\n",
        "    if len(s) > max_len:\n",
        "        max_len = len(s)\n",
        "        min_ind = n\n",
        "print(min_ind)"
      ],
      "metadata": {
        "colab": {
          "base_uri": "https://localhost:8080/"
        },
        "id": "QHkg0ssg_H-A",
        "outputId": "106d5d14-8847-4f4b-f8ce-a2a1a7866ad1"
      },
      "execution_count": null,
      "outputs": [
        {
          "output_type": "stream",
          "name": "stdout",
          "text": [
            "117\n"
          ]
        }
      ]
    },
    {
      "cell_type": "markdown",
      "source": [
        "9542"
      ],
      "metadata": {
        "id": "byrtrox5_NA2"
      }
    },
    {
      "cell_type": "code",
      "source": [
        "for n in range(101,1000):\n",
        "    s = '5'*n\n",
        "    while '555' in s or '11' in s or '2' in s:\n",
        "        if '555' in s: s = s.replace('555', '1', 1)\n",
        "        if '11' in s: s = s.replace('11', '25', 1)\n",
        "        if '2' in s: s = s.replace('2', '5', 1)\n",
        "    if s == '15':\n",
        "        print(n)\n",
        "        break"
      ],
      "metadata": {
        "id": "k4OQ3vLb_O1R"
      },
      "execution_count": null,
      "outputs": []
    },
    {
      "cell_type": "markdown",
      "source": [
        "9699"
      ],
      "metadata": {
        "id": "-ipkUOpP_Rg4"
      }
    },
    {
      "cell_type": "code",
      "source": [
        "for n in range(1, 10000):\n",
        "    s = '7'  + '2'*(n+2) + '3'*(n+3) + '1'*(n+1)\n",
        "    while '71' in s or '72' in s or '73' in s:\n",
        "        if '71' in s: s = s.replace('71', '227', 1)\n",
        "        if '72' in s: s = s.replace('72', '37', 1)\n",
        "        if '73' in s: s = s.replace('73', '17', 1)\n",
        "    sum = 0\n",
        "    for x in s:\n",
        "       sum += int(x)\n",
        "    if sum == 9*n:\n",
        "        print(n)\n",
        "        break\n"
      ],
      "metadata": {
        "id": "wgWKY_Pa_Ssv",
        "outputId": "f9a1bccd-fa3b-4860-88c5-4020f541c79e",
        "colab": {
          "base_uri": "https://localhost:8080/"
        }
      },
      "execution_count": null,
      "outputs": [
        {
          "output_type": "stream",
          "name": "stdout",
          "text": [
            "20\n"
          ]
        }
      ]
    }
  ]
}